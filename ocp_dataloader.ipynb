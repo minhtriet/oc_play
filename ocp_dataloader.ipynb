{
 "cells": [
  {
   "cell_type": "code",
   "execution_count": null,
   "metadata": {},
   "outputs": [],
   "source": [
    "from ocpmodels.datasets import SinglePointLmdbDataset\n",
    "\n",
    "# TrajectoryLmdbDataset is our custom Dataset method to read the lmdbs as Data objects. Note that we need to give the path to the folder containing lmdbs for S2EF\n",
    "dataset = TrajectoryLmdbDataset({\"src\": \"data/s2ef/train_100/\"})\n",
    "\n",
    "print(\"Size of the dataset created:\", len(dataset))\n",
    "print(dataset[0])"
   ]
  }
 ],
 "metadata": {
  "language_info": {
   "name": "python"
  },
  "orig_nbformat": 4
 },
 "nbformat": 4,
 "nbformat_minor": 2
}
