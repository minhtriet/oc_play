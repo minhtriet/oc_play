{
 "cells": [
  {
   "cell_type": "markdown",
   "metadata": {},
   "source": [
    "## Graph Convolution"
   ]
  },
  {
   "cell_type": "code",
   "execution_count": 2,
   "metadata": {},
   "outputs": [],
   "source": [
    "import dgl\n",
    "import pytorch_lightning as pl\n",
    "import torch\n",
    "from torch import nn\n",
    "from dgl.nn import GraphConv, GATv2Conv\n",
    "import networkx as nx"
   ]
  },
  {
   "cell_type": "code",
   "execution_count": 3,
   "metadata": {},
   "outputs": [],
   "source": [
    "def GraphConvDGL(g, node_feats):\n",
    "    g=g.add_self_loop()\n",
    "    conv = GraphConv(2, 2, norm='right', weight=False, bias=False)\n",
    "    print(conv)\n",
    "    return conv(g, node_feats)\n",
    "    "
   ]
  },
  {
   "cell_type": "code",
   "execution_count": 4,
   "metadata": {},
   "outputs": [
    {
     "name": "stdout",
     "output_type": "stream",
     "text": [
      "Node features:\n",
      " tensor([[[0., 1.],\n",
      "         [2., 3.],\n",
      "         [4., 5.],\n",
      "         [6., 7.]]])\n",
      "\n",
      "Adjacency matrix:\n",
      " tensor([[[1., 1., 0., 0.],\n",
      "         [1., 1., 1., 1.],\n",
      "         [0., 1., 1., 1.],\n",
      "         [0., 1., 1., 1.]]])\n"
     ]
    }
   ],
   "source": [
    "node_feats = torch.arange(8, dtype=torch.float32).view(1, 4, 2)\n",
    "adj_matrix = torch.Tensor([[[1, 1, 0, 0],\n",
    "                            [1, 1, 1, 1],\n",
    "                            [0, 1, 1, 1],\n",
    "                            [0, 1, 1, 1]]])\n",
    "\n",
    "print(\"Node features:\\n\", node_feats)\n",
    "print(\"\\nAdjacency matrix:\\n\", adj_matrix)"
   ]
  },
  {
   "cell_type": "code",
   "execution_count": 5,
   "metadata": {},
   "outputs": [
    {
     "data": {
      "image/png": "[encoded data removed]",
      "text/plain": [
       "<Figure size 640x480 with 1 Axes>"
      ]
     },
     "metadata": {},
     "output_type": "display_data"
    }
   ],
   "source": [
    "src, dest = torch.nonzero(adj_matrix[0], as_tuple=True)\n",
    "g = dgl.graph((src,dest))\n",
    "nx.draw(g.add_self_loop().to_networkx())"
   ]
  },
  {
   "cell_type": "code",
   "execution_count": 6,
   "metadata": {},
   "outputs": [
    {
     "data": {
      "text/plain": [
       "tensor([[[0., 1.],\n",
       "         [2., 3.],\n",
       "         [4., 5.],\n",
       "         [6., 7.]]])"
      ]
     },
     "execution_count": 6,
     "metadata": {},
     "output_type": "execute_result"
    }
   ],
   "source": [
    "node_feats"
   ]
  },
  {
   "cell_type": "code",
   "execution_count": 7,
   "metadata": {},
   "outputs": [
    {
     "name": "stdout",
     "output_type": "stream",
     "text": [
      "GraphConv(in=2, out=2, normalization=right, activation=None)\n",
      "torch.Size([4, 2])\n",
      "GraphConv(in=2, out=2, normalization=right, activation=None)\n"
     ]
    }
   ],
   "source": [
    "with torch.no_grad():\n",
    "    print(GraphConvDGL(g, node_feats[0]).shape)\n",
    "    GraphConvDGL(g, node_feats[0])"
   ]
  },
  {
   "cell_type": "code",
   "execution_count": 8,
   "metadata": {},
   "outputs": [],
   "source": [
    "class GCNLayer(nn.Module):\n",
    "\n",
    "    def __init__(self, c_in, c_out):\n",
    "        super().__init__()\n",
    "        self.projection = nn.Linear(c_in, c_out)\n",
    "\n",
    "    def forward(self, node_feats, adj_matrix):\n",
    "        \"\"\"\n",
    "\n",
    "        Args:\n",
    "            node_feats (_type_): batch_size, n, m\n",
    "            adj_matrix (_type_): n*n\n",
    "        \"\"\"\n",
    "        num_neighbours = adj_matrix.sum(dim=-1, keepdims=True)\n",
    "        node_feats = self.projection(node_feats)\n",
    "        node_feats = torch.bmm(adj_matrix, node_feats)\n",
    "        node_feats = node_feats / num_neighbours\n",
    "        return node_feats"
   ]
  },
  {
   "cell_type": "code",
   "execution_count": 9,
   "metadata": {},
   "outputs": [
    {
     "name": "stdout",
     "output_type": "stream",
     "text": [
      "Adjacency matrix tensor([[[1., 1., 0., 0.],\n",
      "         [1., 1., 1., 1.],\n",
      "         [0., 1., 1., 1.],\n",
      "         [0., 1., 1., 1.]]])\n",
      "Input features tensor([[[0., 1.],\n",
      "         [2., 3.],\n",
      "         [4., 5.],\n",
      "         [6., 7.]]])\n",
      "Output features tensor([[[1., 2.],\n",
      "         [3., 4.],\n",
      "         [4., 5.],\n",
      "         [4., 5.]]])\n"
     ]
    }
   ],
   "source": [
    "layer = GCNLayer(c_in=2, c_out=2)\n",
    "layer.projection.weight.data = torch.Tensor([[1., 0.], [0., 1.]])\n",
    "layer.projection.bias.data = torch.Tensor([0., 0.])\n",
    "\n",
    "with torch.no_grad():\n",
    "    out_feats = layer(node_feats, adj_matrix)\n",
    "\n",
    "print(\"Adjacency matrix\", adj_matrix)\n",
    "print(\"Input features\", node_feats)\n",
    "print(\"Output features\", out_feats)"
   ]
  },
  {
   "cell_type": "code",
   "execution_count": 10,
   "metadata": {},
   "outputs": [
    {
     "data": {
      "text/plain": [
       "torch.Size([1, 4, 2])"
      ]
     },
     "execution_count": 10,
     "metadata": {},
     "output_type": "execute_result"
    }
   ],
   "source": [
    "out_feats.shape"
   ]
  },
  {
   "cell_type": "markdown",
   "metadata": {},
   "source": [
    "## Graph attention"
   ]
  },
  {
   "cell_type": "markdown",
   "metadata": {},
   "source": [
    "### Node level"
   ]
  },
  {
   "cell_type": "code",
   "execution_count": 11,
   "metadata": {},
   "outputs": [
    {
     "data": {
      "text/plain": [
       "tensor([[[-0.7077,  1.1577]],\n",
       "\n",
       "        [[-0.7091,  1.1550]],\n",
       "\n",
       "        [[ 1.2537,  5.2344]],\n",
       "\n",
       "        [[ 1.2537,  5.2344]]], grad_fn=<GSpMMBackward>)"
      ]
     },
     "execution_count": 11,
     "metadata": {},
     "output_type": "execute_result"
    }
   ],
   "source": [
    "gatv2conv = GATv2Conv(2, 2, num_heads=1)\n",
    "gatv2conv(g, node_feats)"
   ]
  },
  {
   "cell_type": "code",
   "execution_count": 12,
   "metadata": {},
   "outputs": [
    {
     "name": "stdout",
     "output_type": "stream",
     "text": [
      "  NumNodes: 2708\n",
      "  NumEdges: 10556\n",
      "  NumFeats: 1433\n",
      "  NumClasses: 7\n",
      "  NumTrainingSamples: 140\n",
      "  NumValidationSamples: 500\n",
      "  NumTestSamples: 1000\n",
      "Done loading data from cached files.\n"
     ]
    }
   ],
   "source": [
    "from dgl.data import CoraGraphDataset\n",
    "\n",
    "dataset = CoraGraphDataset()\n",
    "g = dataset[0]\n",
    "num_class = dataset.num_classes\n",
    "# get node feature\n",
    "feat = g.ndata['feat']\n",
    "# get data split\n",
    "train_mask = g.ndata['train_mask']\n",
    "val_mask = g.ndata['val_mask']\n",
    "test_mask = g.ndata['test_mask']\n",
    "# get labels\n",
    "label = g.ndata['label']"
   ]
  },
  {
   "cell_type": "code",
   "execution_count": 13,
   "metadata": {},
   "outputs": [],
   "source": [
    "data_loader = dgl.dataloading.GraphDataLoader(g)"
   ]
  },
  {
   "cell_type": "code",
   "execution_count": 14,
   "metadata": {},
   "outputs": [
    {
     "data": {
      "text/plain": [
       "torch.Size([2708, 1433])"
      ]
     },
     "execution_count": 14,
     "metadata": {},
     "output_type": "execute_result"
    }
   ],
   "source": [
    "g.ndata['feat'].shape"
   ]
  },
  {
   "cell_type": "code",
   "execution_count": 15,
   "metadata": {},
   "outputs": [],
   "source": [
    "class GATModel(nn.Module):\n",
    "\n",
    "    def __init__(self, channels_in, channels_hidden, channels_out, num_heads, num_layers=2, dp_rate=0.1):\n",
    "        super().__init__()\n",
    "        layers = []\n",
    "        c_in = channels_in\n",
    "        for _ in range(num_layers):\n",
    "            layers.append(GATv2Conv(c_in, channels_hidden, num_heads=num_heads, feat_drop=dp_rate))\n",
    "            c_in = channels_hidden*num_heads\n",
    "        layers.append(GATv2Conv(c_in, channels_out, num_heads=num_heads))\n",
    "        self.layers = nn.ModuleList(layers)\n",
    "# https://github.com/dmlc/dgl/issues/3448\n",
    "    def forward(self, g, ft):\n",
    "        for layer in self.layers:\n",
    "            print(layer)\n",
    "            ft = layer(g, ft)\n",
    "            print(ft.shape)\n",
    "        return x"
   ]
  },
  {
   "cell_type": "code",
   "execution_count": 16,
   "metadata": {},
   "outputs": [
    {
     "name": "stdout",
     "output_type": "stream",
     "text": [
      "GATv2Conv(\n",
      "  (fc_src): Linear(in_features=1433, out_features=32, bias=True)\n",
      "  (fc_dst): Linear(in_features=1433, out_features=32, bias=True)\n",
      "  (feat_drop): Dropout(p=0.1, inplace=False)\n",
      "  (attn_drop): Dropout(p=0.0, inplace=False)\n",
      "  (leaky_relu): LeakyReLU(negative_slope=0.2)\n",
      ")\n",
      "torch.Size([2708, 2, 16])\n",
      "GATv2Conv(\n",
      "  (fc_src): Linear(in_features=32, out_features=32, bias=True)\n",
      "  (fc_dst): Linear(in_features=32, out_features=32, bias=True)\n",
      "  (feat_drop): Dropout(p=0.1, inplace=False)\n",
      "  (attn_drop): Dropout(p=0.0, inplace=False)\n",
      "  (leaky_relu): LeakyReLU(negative_slope=0.2)\n",
      ")\n"
     ]
    },
    {
     "ename": "RuntimeError",
     "evalue": "mat1 and mat2 shapes cannot be multiplied (5416x16 and 32x32)",
     "output_type": "error",
     "traceback": [
      "\u001b[0;31m---------------------------------------------------------------------------\u001b[0m",
      "\u001b[0;31mRuntimeError\u001b[0m                              Traceback (most recent call last)",
      "Cell \u001b[0;32mIn[16], line 4\u001b[0m\n\u001b[1;32m      1\u001b[0m gat \u001b[39m=\u001b[39m GATModel(channels_in\u001b[39m=\u001b[39mg\u001b[39m.\u001b[39mndata[\u001b[39m'\u001b[39m\u001b[39mfeat\u001b[39m\u001b[39m'\u001b[39m]\u001b[39m.\u001b[39mshape[\u001b[39m1\u001b[39m],\n\u001b[1;32m      2\u001b[0m                channels_out\u001b[39m=\u001b[39mg\u001b[39m.\u001b[39mndata[\u001b[39m'\u001b[39m\u001b[39mlabel\u001b[39m\u001b[39m'\u001b[39m]\u001b[39m.\u001b[39munique()\u001b[39m.\u001b[39mshape[\u001b[39m0\u001b[39m],\n\u001b[1;32m      3\u001b[0m                channels_hidden\u001b[39m=\u001b[39m\u001b[39m16\u001b[39m, num_heads\u001b[39m=\u001b[39m\u001b[39m2\u001b[39m)\n\u001b[0;32m----> 4\u001b[0m gat(g, g\u001b[39m.\u001b[39;49mndata[\u001b[39m'\u001b[39;49m\u001b[39mfeat\u001b[39;49m\u001b[39m'\u001b[39;49m])\n",
      "File \u001b[0;32m~/code/oc_play/venv/lib/python3.9/site-packages/torch/nn/modules/module.py:1501\u001b[0m, in \u001b[0;36mModule._call_impl\u001b[0;34m(self, *args, **kwargs)\u001b[0m\n\u001b[1;32m   1496\u001b[0m \u001b[39m# If we don't have any hooks, we want to skip the rest of the logic in\u001b[39;00m\n\u001b[1;32m   1497\u001b[0m \u001b[39m# this function, and just call forward.\u001b[39;00m\n\u001b[1;32m   1498\u001b[0m \u001b[39mif\u001b[39;00m \u001b[39mnot\u001b[39;00m (\u001b[39mself\u001b[39m\u001b[39m.\u001b[39m_backward_hooks \u001b[39mor\u001b[39;00m \u001b[39mself\u001b[39m\u001b[39m.\u001b[39m_backward_pre_hooks \u001b[39mor\u001b[39;00m \u001b[39mself\u001b[39m\u001b[39m.\u001b[39m_forward_hooks \u001b[39mor\u001b[39;00m \u001b[39mself\u001b[39m\u001b[39m.\u001b[39m_forward_pre_hooks\n\u001b[1;32m   1499\u001b[0m         \u001b[39mor\u001b[39;00m _global_backward_pre_hooks \u001b[39mor\u001b[39;00m _global_backward_hooks\n\u001b[1;32m   1500\u001b[0m         \u001b[39mor\u001b[39;00m _global_forward_hooks \u001b[39mor\u001b[39;00m _global_forward_pre_hooks):\n\u001b[0;32m-> 1501\u001b[0m     \u001b[39mreturn\u001b[39;00m forward_call(\u001b[39m*\u001b[39;49margs, \u001b[39m*\u001b[39;49m\u001b[39m*\u001b[39;49mkwargs)\n\u001b[1;32m   1502\u001b[0m \u001b[39m# Do not call functions when jit is used\u001b[39;00m\n\u001b[1;32m   1503\u001b[0m full_backward_hooks, non_full_backward_hooks \u001b[39m=\u001b[39m [], []\n",
      "Cell \u001b[0;32mIn[15], line 16\u001b[0m, in \u001b[0;36mGATModel.forward\u001b[0;34m(self, g, ft)\u001b[0m\n\u001b[1;32m     14\u001b[0m \u001b[39mfor\u001b[39;00m layer \u001b[39min\u001b[39;00m \u001b[39mself\u001b[39m\u001b[39m.\u001b[39mlayers:\n\u001b[1;32m     15\u001b[0m     \u001b[39mprint\u001b[39m(layer)\n\u001b[0;32m---> 16\u001b[0m     ft \u001b[39m=\u001b[39m layer(g, ft)\n\u001b[1;32m     17\u001b[0m     \u001b[39mprint\u001b[39m(ft\u001b[39m.\u001b[39mshape)\n\u001b[1;32m     18\u001b[0m \u001b[39mreturn\u001b[39;00m x\n",
      "File \u001b[0;32m~/code/oc_play/venv/lib/python3.9/site-packages/torch/nn/modules/module.py:1501\u001b[0m, in \u001b[0;36mModule._call_impl\u001b[0;34m(self, *args, **kwargs)\u001b[0m\n\u001b[1;32m   1496\u001b[0m \u001b[39m# If we don't have any hooks, we want to skip the rest of the logic in\u001b[39;00m\n\u001b[1;32m   1497\u001b[0m \u001b[39m# this function, and just call forward.\u001b[39;00m\n\u001b[1;32m   1498\u001b[0m \u001b[39mif\u001b[39;00m \u001b[39mnot\u001b[39;00m (\u001b[39mself\u001b[39m\u001b[39m.\u001b[39m_backward_hooks \u001b[39mor\u001b[39;00m \u001b[39mself\u001b[39m\u001b[39m.\u001b[39m_backward_pre_hooks \u001b[39mor\u001b[39;00m \u001b[39mself\u001b[39m\u001b[39m.\u001b[39m_forward_hooks \u001b[39mor\u001b[39;00m \u001b[39mself\u001b[39m\u001b[39m.\u001b[39m_forward_pre_hooks\n\u001b[1;32m   1499\u001b[0m         \u001b[39mor\u001b[39;00m _global_backward_pre_hooks \u001b[39mor\u001b[39;00m _global_backward_hooks\n\u001b[1;32m   1500\u001b[0m         \u001b[39mor\u001b[39;00m _global_forward_hooks \u001b[39mor\u001b[39;00m _global_forward_pre_hooks):\n\u001b[0;32m-> 1501\u001b[0m     \u001b[39mreturn\u001b[39;00m forward_call(\u001b[39m*\u001b[39;49margs, \u001b[39m*\u001b[39;49m\u001b[39m*\u001b[39;49mkwargs)\n\u001b[1;32m   1502\u001b[0m \u001b[39m# Do not call functions when jit is used\u001b[39;00m\n\u001b[1;32m   1503\u001b[0m full_backward_hooks, non_full_backward_hooks \u001b[39m=\u001b[39m [], []\n",
      "File \u001b[0;32m~/code/oc_play/venv/lib/python3.9/site-packages/dgl/nn/pytorch/conv/gatv2conv.py:291\u001b[0m, in \u001b[0;36mGATv2Conv.forward\u001b[0;34m(self, graph, feat, get_attention)\u001b[0m\n\u001b[1;32m    289\u001b[0m \u001b[39melse\u001b[39;00m:\n\u001b[1;32m    290\u001b[0m     h_src \u001b[39m=\u001b[39m h_dst \u001b[39m=\u001b[39m \u001b[39mself\u001b[39m\u001b[39m.\u001b[39mfeat_drop(feat)\n\u001b[0;32m--> 291\u001b[0m     feat_src \u001b[39m=\u001b[39m \u001b[39mself\u001b[39;49m\u001b[39m.\u001b[39;49mfc_src(h_src)\u001b[39m.\u001b[39mview(\n\u001b[1;32m    292\u001b[0m         \u001b[39m-\u001b[39m\u001b[39m1\u001b[39m, \u001b[39mself\u001b[39m\u001b[39m.\u001b[39m_num_heads, \u001b[39mself\u001b[39m\u001b[39m.\u001b[39m_out_feats\n\u001b[1;32m    293\u001b[0m     )\n\u001b[1;32m    294\u001b[0m     \u001b[39mif\u001b[39;00m \u001b[39mself\u001b[39m\u001b[39m.\u001b[39mshare_weights:\n\u001b[1;32m    295\u001b[0m         feat_dst \u001b[39m=\u001b[39m feat_src\n",
      "File \u001b[0;32m~/code/oc_play/venv/lib/python3.9/site-packages/torch/nn/modules/module.py:1501\u001b[0m, in \u001b[0;36mModule._call_impl\u001b[0;34m(self, *args, **kwargs)\u001b[0m\n\u001b[1;32m   1496\u001b[0m \u001b[39m# If we don't have any hooks, we want to skip the rest of the logic in\u001b[39;00m\n\u001b[1;32m   1497\u001b[0m \u001b[39m# this function, and just call forward.\u001b[39;00m\n\u001b[1;32m   1498\u001b[0m \u001b[39mif\u001b[39;00m \u001b[39mnot\u001b[39;00m (\u001b[39mself\u001b[39m\u001b[39m.\u001b[39m_backward_hooks \u001b[39mor\u001b[39;00m \u001b[39mself\u001b[39m\u001b[39m.\u001b[39m_backward_pre_hooks \u001b[39mor\u001b[39;00m \u001b[39mself\u001b[39m\u001b[39m.\u001b[39m_forward_hooks \u001b[39mor\u001b[39;00m \u001b[39mself\u001b[39m\u001b[39m.\u001b[39m_forward_pre_hooks\n\u001b[1;32m   1499\u001b[0m         \u001b[39mor\u001b[39;00m _global_backward_pre_hooks \u001b[39mor\u001b[39;00m _global_backward_hooks\n\u001b[1;32m   1500\u001b[0m         \u001b[39mor\u001b[39;00m _global_forward_hooks \u001b[39mor\u001b[39;00m _global_forward_pre_hooks):\n\u001b[0;32m-> 1501\u001b[0m     \u001b[39mreturn\u001b[39;00m forward_call(\u001b[39m*\u001b[39;49margs, \u001b[39m*\u001b[39;49m\u001b[39m*\u001b[39;49mkwargs)\n\u001b[1;32m   1502\u001b[0m \u001b[39m# Do not call functions when jit is used\u001b[39;00m\n\u001b[1;32m   1503\u001b[0m full_backward_hooks, non_full_backward_hooks \u001b[39m=\u001b[39m [], []\n",
      "File \u001b[0;32m~/code/oc_play/venv/lib/python3.9/site-packages/torch/nn/modules/linear.py:114\u001b[0m, in \u001b[0;36mLinear.forward\u001b[0;34m(self, input)\u001b[0m\n\u001b[1;32m    113\u001b[0m \u001b[39mdef\u001b[39;00m \u001b[39mforward\u001b[39m(\u001b[39mself\u001b[39m, \u001b[39minput\u001b[39m: Tensor) \u001b[39m-\u001b[39m\u001b[39m>\u001b[39m Tensor:\n\u001b[0;32m--> 114\u001b[0m     \u001b[39mreturn\u001b[39;00m F\u001b[39m.\u001b[39;49mlinear(\u001b[39minput\u001b[39;49m, \u001b[39mself\u001b[39;49m\u001b[39m.\u001b[39;49mweight, \u001b[39mself\u001b[39;49m\u001b[39m.\u001b[39;49mbias)\n",
      "\u001b[0;31mRuntimeError\u001b[0m: mat1 and mat2 shapes cannot be multiplied (5416x16 and 32x32)"
     ]
    }
   ],
   "source": [
    "gat = GATModel(channels_in=g.ndata['feat'].shape[1],\n",
    "               channels_out=g.ndata['label'].unique().shape[0],\n",
    "               channels_hidden=16, num_heads=2)\n",
    "gat(g, g.ndata['feat'])"
   ]
  },
  {
   "cell_type": "code",
   "execution_count": null,
   "metadata": {},
   "outputs": [],
   "source": [
    "class NodeClassificationPL(pl.Module):\n",
    "\n",
    "    def __init__(self):\n",
    "        self.model = GATModel()\n",
    "\n",
    "    def forward(self, node_ft, edge):\n",
    "        note_ft = data[]\n",
    "        self.model(node_ft, edge)"
   ]
  },
  {
   "cell_type": "code",
   "execution_count": 25,
   "metadata": {},
   "outputs": [
    {
     "name": "stdout",
     "output_type": "stream",
     "text": [
      "  NumNodes: 2708\n",
      "  NumEdges: 10556\n",
      "  NumFeats: 1433\n",
      "  NumClasses: 7\n",
      "  NumTrainingSamples: 140\n",
      "  NumValidationSamples: 500\n",
      "  NumTestSamples: 1000\n",
      "Done loading data from cached files.\n",
      "Epoch 0 | Loss 1.9464285373687744\n",
      "Epoch 1 | Loss 1.930116891860962\n",
      "Epoch 2 | Loss 1.9133331775665283\n"
     ]
    },
    {
     "name": "stderr",
     "output_type": "stream",
     "text": [
      "/Users/chaum/code/oc_play/venv/lib/python3.9/site-packages/torch/cuda/amp/grad_scaler.py:120: UserWarning: torch.cuda.amp.GradScaler is enabled, but CUDA is not available.  Disabling.\n",
      "  warnings.warn(\"torch.cuda.amp.GradScaler is enabled, but CUDA is not available.  Disabling.\")\n",
      "/Users/chaum/code/oc_play/venv/lib/python3.9/site-packages/torch/amp/autocast_mode.py:204: UserWarning: User provided device_type of 'cuda', but CUDA is not available. Disabling\n",
      "  warnings.warn('User provided device_type of \\'cuda\\', but CUDA is not available. Disabling')\n"
     ]
    },
    {
     "name": "stdout",
     "output_type": "stream",
     "text": [
      "Epoch 3 | Loss 1.8966186046600342\n",
      "Epoch 4 | Loss 1.8795205354690552\n",
      "Epoch 5 | Loss 1.8617174625396729\n",
      "Epoch 6 | Loss 1.8431038856506348\n",
      "Epoch 7 | Loss 1.8235259056091309\n",
      "Epoch 8 | Loss 1.802789330482483\n",
      "Epoch 9 | Loss 1.7807276248931885\n",
      "Epoch 10 | Loss 1.7572115659713745\n",
      "Epoch 11 | Loss 1.7321330308914185\n",
      "Epoch 12 | Loss 1.7054029703140259\n",
      "Epoch 13 | Loss 1.6769614219665527\n",
      "Epoch 14 | Loss 1.6467628479003906\n",
      "Epoch 15 | Loss 1.6147487163543701\n",
      "Epoch 16 | Loss 1.5808830261230469\n",
      "Epoch 17 | Loss 1.5451945066452026\n",
      "Epoch 18 | Loss 1.5077282190322876\n",
      "Epoch 19 | Loss 1.468510389328003\n",
      "Epoch 20 | Loss 1.4275953769683838\n",
      "Epoch 21 | Loss 1.385091781616211\n",
      "Epoch 22 | Loss 1.3411457538604736\n",
      "Epoch 23 | Loss 1.2958875894546509\n",
      "Epoch 24 | Loss 1.2494970560073853\n",
      "Epoch 25 | Loss 1.202166199684143\n",
      "Epoch 26 | Loss 1.1541026830673218\n",
      "Epoch 27 | Loss 1.1055423021316528\n",
      "Epoch 28 | Loss 1.056715726852417\n",
      "Epoch 29 | Loss 1.0078448057174683\n",
      "Epoch 30 | Loss 0.9591891765594482\n",
      "Epoch 31 | Loss 0.9109888672828674\n",
      "Epoch 32 | Loss 0.8634492754936218\n",
      "Epoch 33 | Loss 0.816789984703064\n",
      "Epoch 34 | Loss 0.7711997032165527\n",
      "Epoch 35 | Loss 0.7268543243408203\n",
      "Epoch 36 | Loss 0.6838908791542053\n",
      "Epoch 37 | Loss 0.6424697637557983\n",
      "Epoch 38 | Loss 0.6026760339736938\n",
      "Epoch 39 | Loss 0.5646207928657532\n",
      "Epoch 40 | Loss 0.5283704400062561\n",
      "Epoch 41 | Loss 0.49395811557769775\n",
      "Epoch 42 | Loss 0.4614168405532837\n",
      "Epoch 43 | Loss 0.4307470917701721\n",
      "Epoch 44 | Loss 0.4019339680671692\n",
      "Epoch 45 | Loss 0.37495025992393494\n",
      "Epoch 46 | Loss 0.34974604845046997\n",
      "Epoch 47 | Loss 0.32625359296798706\n",
      "Epoch 48 | Loss 0.3044007420539856\n",
      "Epoch 49 | Loss 0.28411635756492615\n",
      "Epoch 50 | Loss 0.26530522108078003\n",
      "Epoch 51 | Loss 0.24789245426654816\n",
      "Epoch 52 | Loss 0.23180237412452698\n",
      "Epoch 53 | Loss 0.2169753462076187\n",
      "Epoch 54 | Loss 0.2032797932624817\n",
      "Epoch 55 | Loss 0.19063352048397064\n",
      "Epoch 56 | Loss 0.17896153032779694\n",
      "Epoch 57 | Loss 0.16819314658641815\n",
      "Epoch 58 | Loss 0.1582038700580597\n",
      "Epoch 59 | Loss 0.1489870250225067\n",
      "Epoch 60 | Loss 0.1404709666967392\n",
      "Epoch 61 | Loss 0.13261781632900238\n",
      "Epoch 62 | Loss 0.125372052192688\n",
      "Epoch 63 | Loss 0.11870467662811279\n",
      "Epoch 64 | Loss 0.11256331950426102\n",
      "Epoch 65 | Loss 0.10690706223249435\n",
      "Epoch 66 | Loss 0.10169519484043121\n",
      "Epoch 67 | Loss 0.09689034521579742\n",
      "Epoch 68 | Loss 0.09245756268501282\n",
      "Epoch 69 | Loss 0.08836349844932556\n",
      "Epoch 70 | Loss 0.0845833271741867\n",
      "Epoch 71 | Loss 0.08109021186828613\n",
      "Epoch 72 | Loss 0.07787029445171356\n",
      "Epoch 73 | Loss 0.07490386068820953\n",
      "Epoch 74 | Loss 0.07216258347034454\n",
      "Epoch 75 | Loss 0.06963209807872772\n",
      "Epoch 76 | Loss 0.06729892641305923\n",
      "Epoch 77 | Loss 0.06515184789896011\n",
      "Epoch 78 | Loss 0.06317295879125595\n",
      "Epoch 79 | Loss 0.06134497746825218\n",
      "Epoch 80 | Loss 0.059667766094207764\n",
      "Epoch 81 | Loss 0.05812140926718712\n",
      "Epoch 82 | Loss 0.05668894574046135\n",
      "Epoch 83 | Loss 0.05536891892552376\n",
      "Epoch 84 | Loss 0.05415423959493637\n",
      "Epoch 85 | Loss 0.05303749814629555\n",
      "Epoch 86 | Loss 0.05200895667076111\n",
      "Epoch 87 | Loss 0.05106234923005104\n",
      "Epoch 88 | Loss 0.05018012598156929\n",
      "Epoch 89 | Loss 0.04937845095992088\n",
      "Epoch 90 | Loss 0.048622895032167435\n",
      "Epoch 91 | Loss 0.04791361466050148\n",
      "Epoch 92 | Loss 0.047260917723178864\n",
      "Epoch 93 | Loss 0.04666326940059662\n",
      "Epoch 94 | Loss 0.046095430850982666\n",
      "Epoch 95 | Loss 0.04556971788406372\n",
      "Epoch 96 | Loss 0.04509103670716286\n",
      "Epoch 97 | Loss 0.0446401908993721\n",
      "Epoch 98 | Loss 0.04421469569206238\n",
      "Epoch 99 | Loss 0.04382099583745003\n"
     ]
    }
   ],
   "source": [
    "import torch\n",
    "import torch.nn as nn\n",
    "import torch.nn.functional as F\n",
    "from torch.cuda.amp import autocast, GradScaler\n",
    "import dgl\n",
    "from dgl.nn import GATConv\n",
    "\n",
    "use_fp16 = True\n",
    "\n",
    "\n",
    "class GAT(nn.Module):\n",
    "    def __init__(self,\n",
    "                 in_feats,\n",
    "                 n_hidden,\n",
    "                 n_classes,\n",
    "                 heads):\n",
    "        super().__init__()\n",
    "        self.layers = nn.ModuleList()\n",
    "        self.layers.append(GATConv(in_feats, n_hidden, heads[0], activation=F.elu))\n",
    "        self.layers.append(GATConv(n_hidden * heads[0], n_hidden, heads[1], activation=F.elu))\n",
    "        self.layers.append(GATConv(n_hidden * heads[1], n_classes, heads[2], activation=F.elu))\n",
    "\n",
    "    def forward(self, g, h):\n",
    "        for l, layer in enumerate(self.layers):\n",
    "            h = layer(g, h)\n",
    "            if l != len(self.layers) - 1:\n",
    "                h = h.flatten(1)\n",
    "            else:\n",
    "                h = h.mean(1)\n",
    "        return h\n",
    "\n",
    "# Data loading\n",
    "data = CoraGraphDataset()\n",
    "device = \"cpu\"\n",
    "g = data[0]\n",
    "g = dgl.add_self_loop(g)\n",
    "g = g.int().to(device)\n",
    "train_mask = g.ndata['train_mask']\n",
    "features = g.ndata['feat']\n",
    "labels = g.ndata['label']\n",
    "in_feats = features.shape[1]\n",
    "n_hidden = 256\n",
    "n_classes = data.num_classes\n",
    "n_edges = g.number_of_edges()\n",
    "heads = [1, 1, 1]\n",
    "model = GAT(in_feats, n_hidden, n_classes, heads)\n",
    "model = model.to(device)\n",
    "\n",
    "# Create optimizer\n",
    "optimizer = torch.optim.Adam(model.parameters(), lr=1e-3, weight_decay=5e-4)\n",
    "# Create gradient scaler\n",
    "scaler = GradScaler()\n",
    "\n",
    "for epoch in range(100):\n",
    "    model.train()\n",
    "    optimizer.zero_grad()\n",
    "\n",
    "    # Wrap forward pass with autocast\n",
    "    with autocast(enabled=use_fp16):\n",
    "        logits = model(g, features)\n",
    "        loss = F.cross_entropy(logits[train_mask], labels[train_mask])\n",
    "\n",
    "    if use_fp16:\n",
    "        # Backprop w/ gradient scaling\n",
    "        scaler.scale(loss).backward()\n",
    "        scaler.step(optimizer)\n",
    "        scaler.update()\n",
    "    else:\n",
    "        loss.backward()\n",
    "        optimizer.step()\n",
    "\n",
    "    print('Epoch {} | Loss {}'.format(epoch, loss.item()))"
   ]
  },
  {
   "cell_type": "code",
   "execution_count": 26,
   "metadata": {},
   "outputs": [
    {
     "name": "stdout",
     "output_type": "stream",
     "text": [
      "ModuleList(\n",
      "  (0): GATConv(\n",
      "    (fc): Linear(in_features=1433, out_features=256, bias=False)\n",
      "    (feat_drop): Dropout(p=0.0, inplace=False)\n",
      "    (attn_drop): Dropout(p=0.0, inplace=False)\n",
      "    (leaky_relu): LeakyReLU(negative_slope=0.2)\n",
      "  )\n",
      "  (1): GATConv(\n",
      "    (fc): Linear(in_features=256, out_features=256, bias=False)\n",
      "    (feat_drop): Dropout(p=0.0, inplace=False)\n",
      "    (attn_drop): Dropout(p=0.0, inplace=False)\n",
      "    (leaky_relu): LeakyReLU(negative_slope=0.2)\n",
      "  )\n",
      "  (2): GATConv(\n",
      "    (fc): Linear(in_features=256, out_features=7, bias=False)\n",
      "    (feat_drop): Dropout(p=0.0, inplace=False)\n",
      "    (attn_drop): Dropout(p=0.0, inplace=False)\n",
      "    (leaky_relu): LeakyReLU(negative_slope=0.2)\n",
      "  )\n",
      ")\n"
     ]
    }
   ],
   "source": [
    "print(model.layers)"
   ]
  },
  {
   "cell_type": "code",
   "execution_count": null,
   "metadata": {},
   "outputs": [],
   "source": []
  }
 ],
 "metadata": {
  "kernelspec": {
   "display_name": "venv",
   "language": "python",
   "name": "python3"
  },
  "language_info": {
   "codemirror_mode": {
    "name": "ipython",
    "version": 3
   },
   "file_extension": ".py",
   "mimetype": "text/x-python",
   "name": "python",
   "nbconvert_exporter": "python",
   "pygments_lexer": "ipython3",
   "version": "3.9.12"
  },
  "orig_nbformat": 4
 },
 "nbformat": 4,
 "nbformat_minor": 2
}
